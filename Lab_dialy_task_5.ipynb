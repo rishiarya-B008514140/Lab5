{
 "cells": [
  {
   "cell_type": "code",
   "execution_count": 10,
   "metadata": {},
   "outputs": [
    {
     "output_type": "stream",
     "name": "stdout",
     "text": "\n    Task-1\n\ndistance between two points is 49.8196748283246\n"
    }
   ],
   "source": [
    "import math\n",
    "print(\"\"\"\n",
    "    Task-1\n",
    "\"\"\")\n",
    "class Point:\n",
    "  def __init__(self, sx, sy):\n",
    "    self.x = sx\n",
    "    self.y = sy\n",
    "\n",
    "p = Point(64,95)\n",
    "q = Point(84,45)\n",
    "\n",
    "def distance_bw_2_p(x,y):\n",
    "    x_ans = (x.y - x.x)**2\n",
    "    y_ans = (y.y - y.x)**2\n",
    "    ans = math.sqrt(x_ans + y_ans)\n",
    "    return ans\n",
    "dis = distance_bw_2_p(p,q)\n",
    "print(\"distance between two points is\", dis)"
   ]
  },
  {
   "cell_type": "code",
   "execution_count": 11,
   "metadata": {},
   "outputs": [
    {
     "output_type": "stream",
     "name": "stdout",
     "text": "\n    Task-2\n\ncenter of the rectangle is: ( 5.0 , 10.0 )\n"
    }
   ],
   "source": [
    "print(\"\"\"\n",
    "    Task-2\n",
    "\"\"\")\n",
    "\n",
    "class Point:\n",
    "  def __init__(self, sx, sy):\n",
    "    self.x = sx\n",
    "    self.y = sy\n",
    "\n",
    "cornor = Point(0,0)\n",
    "class Rectangle():\n",
    "    def __init__(self, h, w):\n",
    "        self.height = h\n",
    "        self.width = w\n",
    "r_ins = Rectangle(10, 20)\n",
    "def find_center(r, c):\n",
    "    x = tuple()\n",
    "    if (c.x and c.y) == 0:\n",
    "        x1 = r.height/2\n",
    "        x2 = r.width/2\n",
    "        return Point(x1, x2)\n",
    "# find_center(r_ins,cornor)\n",
    "center_of_rect = find_center(r_ins,cornor)\n",
    "print(\"center of the rectangle is: (\", center_of_rect.x, \",\",center_of_rect.y,\")\")        \n",
    "\n",
    "    "
   ]
  },
  {
   "cell_type": "code",
   "execution_count": 15,
   "metadata": {},
   "outputs": [
    {
     "output_type": "stream",
     "name": "stdout",
     "text": "center of the rectangle is: ( 5.0 , 10.0 )\nChanged: 20 45\n"
    }
   ],
   "source": [
    "print(\"\"\"\n",
    "    Task-2.3\n",
    "\"\"\")\n",
    "cornor = Point(0,0)\n",
    "class Rectangle():\n",
    "    def __init__(self, h, w, p = Point(0,0)):\n",
    "        self.height = h\n",
    "        self.width = w\n",
    "        self.corner = p\n",
    "\n",
    "r_ins = Rectangle(10, 20, cornor)\n",
    "\n",
    "def move_rect(r, dx, dy):\n",
    "    x = r.corner.x + dx\n",
    "    y = r.corner.y + dy\n",
    "    return Point(x,y)\n",
    "changed_point = move_rect(r_ins, 20, 45)\n",
    "print(\"Changed:\", changed_point.x, changed_point.y)"
   ]
  },
  {
   "cell_type": "code",
   "execution_count": 5,
   "metadata": {},
   "outputs": [
    {
     "output_type": "stream",
     "name": "stdout",
     "text": "\n    Task-3\n\n{'x': 10, 'y': 35}\nsum is:  45\n"
    }
   ],
   "source": [
    "print(\"\"\"\n",
    "    Task-3\n",
    "\"\"\")\n",
    "\n",
    "class Point:\n",
    "    def __init__(self, x_r, y_r):\n",
    "        self.x = x_r\n",
    "        self.y = y_r\n",
    "    def __add__(self):\n",
    "        return self.x + self.y\n",
    "    def __str__():\n",
    "        return f\"{self.x} {self.y}\"\n",
    "p = Point(10,35)\n",
    "print(p.__dict__)\n",
    "print(\"sum is: \",p.__add__())"
   ]
  },
  {
   "cell_type": "code",
   "execution_count": 25,
   "metadata": {},
   "outputs": [
    {
     "output_type": "stream",
     "name": "stdout",
     "text": "\n    Task-4 A\n\nTime:15:58:56\nFalse\n"
    }
   ],
   "source": [
    "print(\"\"\"\n",
    "    Task-4 \n",
    "\"\"\")\n",
    "class Time():\n",
    "    def __init__(self, hour, mi, sec):\n",
    "        self.hour = hour\n",
    "        self.min = mi\n",
    "        self.sec = sec\n",
    "    def __str__(self):\n",
    "        return (\"Time:{hr}:{m}:{s}\".format(hr = self.hour, m = self.min, s = self.sec))\n",
    "\n",
    "import time\n",
    "t = time.localtime()\n",
    "x = Time(t.tm_hour, t.tm_min, t.tm_sec)\n",
    "t1 = time.localtime()\n",
    "x1 = Time(t1.tm_hour, t1.tm_min, t1.tm_sec)\n",
    "def is_after(t1, t2):\n",
    "    return str(t1) > str(t2)\n",
    "print(x)\n",
    "print(is_after(x,x1))"
   ]
  },
  {
   "cell_type": "code",
   "execution_count": 32,
   "metadata": {},
   "outputs": [
    {
     "output_type": "stream",
     "name": "stdout",
     "text": "\n    Task-5\n\nNone\n"
    }
   ],
   "source": [
    "print(\"\"\"\n",
    "    Task-5\n",
    "\"\"\")\n",
    "\n",
    "class Kangaroo(object):\n",
    "    def __init__(self):\n",
    "        self.pouch_contents = []\n",
    "    def put_in_pouch(self, ob):\n",
    "        self.pouch_contents.append(ob)\n",
    "    def __str__(self):\n",
    "        print(object.__str__(self))\n",
    "        return str(self.pouch_contents)\n",
    "kanga = Kangaroo()\n",
    "roo = Kangaroo()\n",
    "x = kanga.put_in_pouch(roo) \n",
    "print(x)"
   ]
  },
  {
   "cell_type": "code",
   "execution_count": 33,
   "metadata": {},
   "outputs": [
    {
     "output_type": "stream",
     "name": "stdout",
     "text": "True\t\nFalse\t\nFalse\t\nTrue\t\nTrue\t\nFalse\t\nTrue\t\nTrue\t\nTrue\t\n"
    }
   ],
   "source": [
    "class Vehicle:\n",
    "    pass\n",
    "class LandVehicle(Vehicle):\n",
    "    pass\n",
    "class TrackedVehicle(LandVehicle):\n",
    "    pass\n",
    "for cl1 in [Vehicle, LandVehicle, TrackedVehicle]:\n",
    "    for cl2 in [Vehicle, LandVehicle, TrackedVehicle]:\n",
    "\n",
    "        print(cl1,\" is \", cl2, \" \" ,issubclass(cl1,cl2),end='\\t')\n",
    "        print()\n"
   ]
  },
  {
   "cell_type": "code",
   "execution_count": null,
   "metadata": {},
   "outputs": [],
   "source": []
  }
 ],
 "metadata": {
  "language_info": {
   "codemirror_mode": {
    "name": "ipython",
    "version": 3
   },
   "file_extension": ".py",
   "mimetype": "text/x-python",
   "name": "python",
   "nbconvert_exporter": "python",
   "pygments_lexer": "ipython3",
   "version": "3.8.1-final"
  },
  "orig_nbformat": 2,
  "kernelspec": {
   "name": "python38164bit8081a11a70df49239e80390d03ac8399",
   "display_name": "Python 3.8.1 64-bit"
  }
 },
 "nbformat": 4,
 "nbformat_minor": 2
}